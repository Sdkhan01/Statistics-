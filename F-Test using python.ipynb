{
 "cells": [
  {
   "cell_type": "markdown",
   "id": "5586008e-32ca-44ef-a77c-7c6fbdf353af",
   "metadata": {},
   "source": [
    "# F-test using Python"
   ]
  },
  {
   "cell_type": "code",
   "execution_count": 2,
   "id": "7b4d54cd-c8c1-4933-ba04-1f4dce4d077e",
   "metadata": {},
   "outputs": [],
   "source": [
    "#Evidence to say that two population variances are not equal\n",
    "\n",
    "worker1 = [18, 19, 22, 25, 27, 28, 41, 45, 51, 55]\n",
    "worker2 = [14, 15, 15, 17, 18, 22, 25, 25, 27, 34]"
   ]
  },
  {
   "cell_type": "code",
   "execution_count": 3,
   "id": "21cb46d9-f680-48d1-ac33-adc523dfd7ef",
   "metadata": {},
   "outputs": [],
   "source": [
    "import numpy as np"
   ]
  },
  {
   "cell_type": "code",
   "execution_count": 10,
   "id": "682c9683-c823-4115-80d9-617619f56596",
   "metadata": {},
   "outputs": [],
   "source": [
    "#Calculating the F-test\n",
    "\n",
    "f_test = np.var(worker1)/ np.var(worker2)"
   ]
  },
  {
   "cell_type": "code",
   "execution_count": 11,
   "id": "bc1680a2-9203-4496-847f-cdecd0064d71",
   "metadata": {},
   "outputs": [
    {
     "data": {
      "text/plain": [
       "4.387122002085506"
      ]
     },
     "execution_count": 11,
     "metadata": {},
     "output_type": "execute_result"
    }
   ],
   "source": [
    "f_test"
   ]
  },
  {
   "cell_type": "code",
   "execution_count": 20,
   "id": "1798aa5a-1092-4292-9c11-2c63a56ca965",
   "metadata": {},
   "outputs": [],
   "source": [
    "## Calculating the degree of freedom(dof)\n",
    "\n",
    "dof1 = len(worker1) - 1\n",
    "dof2 = len(worker2) - 1\n",
    "significance_val = 0.05"
   ]
  },
  {
   "cell_type": "code",
   "execution_count": 21,
   "id": "72cdbf97-c465-4fa1-981d-06bee0cfa8fa",
   "metadata": {},
   "outputs": [
    {
     "data": {
      "text/plain": [
       "9"
      ]
     },
     "execution_count": 21,
     "metadata": {},
     "output_type": "execute_result"
    }
   ],
   "source": [
    "dof1"
   ]
  },
  {
   "cell_type": "code",
   "execution_count": 22,
   "id": "19944b82-0d41-4178-b579-2bc8f2bc7ba4",
   "metadata": {},
   "outputs": [
    {
     "data": {
      "text/plain": [
       "9"
      ]
     },
     "execution_count": 22,
     "metadata": {},
     "output_type": "execute_result"
    }
   ],
   "source": [
    "dof2"
   ]
  },
  {
   "cell_type": "code",
   "execution_count": 23,
   "id": "c517cdda-f8ab-438f-be83-7285b9fbdf69",
   "metadata": {},
   "outputs": [],
   "source": [
    "import scipy.stats as stat"
   ]
  },
  {
   "cell_type": "markdown",
   "id": "d07a361b-d6e6-4223-9e4d-82408454d1d4",
   "metadata": {},
   "source": [
    "### Finding the critical value:"
   ]
  },
  {
   "cell_type": "code",
   "execution_count": 26,
   "id": "1378a19b-5335-41fe-aa91-5b09070927b1",
   "metadata": {},
   "outputs": [],
   "source": [
    "# q = confidence interval\n",
    "#dfn = dof in denomenator\n",
    "#dfd = degree of freedom in numerator\n",
    "\n",
    "critical_value = stat.f.ppf(q = 1 - significance_val,dfn = dof1, dfd= dof2)"
   ]
  },
  {
   "cell_type": "code",
   "execution_count": 27,
   "id": "f47d508d-2c6c-4f55-97a1-d309702cbdf8",
   "metadata": {},
   "outputs": [
    {
     "data": {
      "text/plain": [
       "3.178893104458269"
      ]
     },
     "execution_count": 27,
     "metadata": {},
     "output_type": "execute_result"
    }
   ],
   "source": [
    "critical_value"
   ]
  },
  {
   "cell_type": "code",
   "execution_count": 28,
   "id": "f296f180-50ea-473e-86bb-b8aed0eb9c2a",
   "metadata": {},
   "outputs": [
    {
     "name": "stdout",
     "output_type": "stream",
     "text": [
      "We reject null hypothesis\n"
     ]
    }
   ],
   "source": [
    "if  f_test > critical_value:\n",
    "    print('We reject null hypothesis')\n",
    "else:\n",
    "    print('We fail to reject the null hypothesis')"
   ]
  },
  {
   "cell_type": "markdown",
   "id": "6810454c-7553-4788-9732-d568ec15d52a",
   "metadata": {},
   "source": [
    "## Conclusion:\n",
    "\n",
    "Worker 1 is better than worket We reject the null"
   ]
  },
  {
   "cell_type": "code",
   "execution_count": null,
   "id": "bf169b04-3f42-4455-9a0c-1a40ba048313",
   "metadata": {},
   "outputs": [],
   "source": []
  }
 ],
 "metadata": {
  "kernelspec": {
   "display_name": "Python 3 (ipykernel)",
   "language": "python",
   "name": "python3"
  },
  "language_info": {
   "codemirror_mode": {
    "name": "ipython",
    "version": 3
   },
   "file_extension": ".py",
   "mimetype": "text/x-python",
   "name": "python",
   "nbconvert_exporter": "python",
   "pygments_lexer": "ipython3",
   "version": "3.10.8"
  }
 },
 "nbformat": 4,
 "nbformat_minor": 5
}
