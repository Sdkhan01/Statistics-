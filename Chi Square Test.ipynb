{
 "cells": [
  {
   "cell_type": "markdown",
   "id": "0e7bab59-a369-4cfb-8884-57c3812031f0",
   "metadata": {},
   "source": [
    "## Chai Square Test Using Python\n"
   ]
  },
  {
   "cell_type": "code",
   "execution_count": 1,
   "id": "2116da2c-ce05-47e7-a964-f156db1e50ef",
   "metadata": {},
   "outputs": [],
   "source": [
    "import scipy.stats as stat\n",
    "import numpy as np"
   ]
  },
  {
   "cell_type": "code",
   "execution_count": 15,
   "id": "29dacbe1-85df-417e-8ba4-1d5635eb2908",
   "metadata": {},
   "outputs": [],
   "source": [
    "# No of hours student study in weekly basis daily \n",
    "#According to warden,expected data is :\n",
    "\n",
    "expected_data = [8,6,7,9,6,9,7] #number of hrs per day(mon,tues,wednesday....sunday)\n",
    "observed_data = [7,8,6,8,8,7,8]"
   ]
  },
  {
   "cell_type": "code",
   "execution_count": 18,
   "id": "349e73ae-0043-46b8-bf53-85d9f435d49e",
   "metadata": {},
   "outputs": [
    {
     "data": {
      "text/plain": [
       "(52, 52)"
      ]
     },
     "execution_count": 43,
     "metadata": {},
     "output_type": "execute_result"
    }
   ],
   "source": [
    "sum(expected_data),sum(observed_data) #Bsome of both expected and observed value should be same"
   ]
  },
  {
   "cell_type": "code",
   "execution_count": 19,
   "id": "3fcaaea3-6ce9-4121-a958-c727b3ba6666",
   "metadata": {},
   "outputs": [],
   "source": [
    "## Chi-Square,goodness of Fit Test\n",
    "chisquare_test , p_value = stat.chisquare(observed_data, expected_data)"
   ]
  },
  {
   "cell_type": "code",
   "execution_count": 20,
   "id": "bf3d06d5-eb63-4c25-b41c-9be9f251e5b3",
   "metadata": {},
   "outputs": [
    {
     "data": {
      "text/plain": [
       "(2.2996031746031744, 0.8901866577402018)"
      ]
     },
     "execution_count": 45,
     "metadata": {},
     "output_type": "execute_result"
    }
   ],
   "source": [
    "chisquare_test, p_value"
   ]
  },
  {
   "cell_type": "markdown",
   "id": "8a972d57-32d0-49d9-9a5f-3d51e2f6f175",
   "metadata": {},
   "source": [
    "### Find the critical value"
   ]
  },
  {
   "cell_type": "code",
   "execution_count": 30,
   "id": "9f3d53d3-ff27-418d-bf28-6e3a248b55af",
   "metadata": {},
   "outputs": [
    {
     "name": "stdout",
     "output_type": "stream",
     "text": [
      "6\n"
     ]
    }
   ],
   "source": [
    "#Using chi2 function to find the critical value\n",
    "#first we'll find by subtracting significanve value from 1,\n",
    "#Then we'll find the dof(degree of freedom)\n",
    "\n",
    "significance_value = 0.5 #Given\n",
    "dof = len(expected_data ) - 1 #Formula to find the dof\n",
    "print(dof)\n",
    "critical_value = stat.chi2.ppf(1 - significance_value, dof ) #Two parameters are given here."
   ]
  },
  {
   "cell_type": "code",
   "execution_count": 31,
   "id": "7f1e418c-9ad8-4cb9-80d7-f1c5cdc8e070",
   "metadata": {},
   "outputs": [
    {
     "data": {
      "text/plain": [
       "5.348120627447118"
      ]
     },
     "execution_count": 47,
     "metadata": {},
     "output_type": "execute_result"
    }
   ],
   "source": [
    "critical_value"
   ]
  },
  {
   "cell_type": "code",
   "execution_count": 32,
   "id": "25b72bbb-f848-4d1f-8f79-08cc6ac41325",
   "metadata": {},
   "outputs": [
    {
     "data": {
      "text/plain": [
       "6"
      ]
     },
     "execution_count": 48,
     "metadata": {},
     "output_type": "execute_result"
    }
   ],
   "source": [
    "dof"
   ]
  },
  {
   "cell_type": "markdown",
   "id": "988c18df-ff69-4c15-8682-76b89ec58299",
   "metadata": {},
   "source": [
    "### Doing the hypothesis"
   ]
  },
  {
   "cell_type": "code",
   "execution_count": 33,
   "id": "ad7ff768-79d4-4f25-82ce-d275238c0193",
   "metadata": {},
   "outputs": [
    {
     "name": "stdout",
     "output_type": "stream",
     "text": [
      "We fail to reject the Null Hypothesis or we accept the null hypothesis\n"
     ]
    }
   ],
   "source": [
    "if chisquare_test > critical_value:\n",
    "    print(\"We reject the Null hypothesis\")\n",
    "else:\n",
    "    print(\"We fail to reject the Null Hypothesis or we accept the null hypothesis\") "
   ]
  },
  {
   "cell_type": "markdown",
   "id": "7a12b4b1-f374-41b4-80c4-f4723927c38a",
   "metadata": {},
   "source": [
    "### Conclusion :"
   ]
  },
  {
   "cell_type": "markdown",
   "id": "b1e6507c-6ef2-4da0-8809-355e4a238aeb",
   "metadata": {},
   "source": [
    "#### **The data given by the warden was right and matches with the observed data,So We failed to reject the Null Hypothesis as the chisquare test value is less then critical value,so it's falling under the acceptance area.**"
   ]
  },
  {
   "cell_type": "markdown",
   "id": "cf8af261-c0b5-4517-b78a-aa1f0b4d8a90",
   "metadata": {},
   "source": [
    "  \n",
    "  "
   ]
  }
 ],
 "metadata": {
  "kernelspec": {
   "display_name": "Python 3 (ipykernel)",
   "language": "python",
   "name": "python3"
  },
  "language_info": {
   "codemirror_mode": {
    "name": "ipython",
    "version": 3
   },
   "file_extension": ".py",
   "mimetype": "text/x-python",
   "name": "python",
   "nbconvert_exporter": "python",
   "pygments_lexer": "ipython3",
   "version": "3.10.8"
  }
 },
 "nbformat": 4,
 "nbformat_minor": 5
}
