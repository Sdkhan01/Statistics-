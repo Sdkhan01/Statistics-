{
 "cells": [
  {
   "cell_type": "markdown",
   "id": "e614af5b-cf8a-4610-9dc9-a20a527f0d76",
   "metadata": {},
   "source": [
    "### Measure of Dispersion "
   ]
  },
  {
   "cell_type": "code",
   "execution_count": 1,
   "id": "41f204d7-8ebd-4840-ad34-e26d6b96c2f3",
   "metadata": {},
   "outputs": [],
   "source": [
    "\n",
    "ages_list = [23,43,45,67,65,76,67,55,44,33,45,43]"
   ]
  },
  {
   "cell_type": "code",
   "execution_count": 2,
   "id": "0c4ff2ad-40e1-48cd-a925-0f070316685f",
   "metadata": {},
   "outputs": [],
   "source": [
    "import numpy as np "
   ]
  },
  {
   "cell_type": "code",
   "execution_count": 4,
   "id": "b5fab8f8-bb8c-48b9-a261-71c5830337db",
   "metadata": {},
   "outputs": [
    {
     "data": {
      "text/plain": [
       "50.5"
      ]
     },
     "execution_count": 4,
     "metadata": {},
     "output_type": "execute_result"
    }
   ],
   "source": [
    "np.mean(ages_list)"
   ]
  },
  {
   "cell_type": "code",
   "execution_count": 5,
   "id": "4b2973f7-b7ce-455e-8e3c-d5101b2173ab",
   "metadata": {},
   "outputs": [
    {
     "data": {
      "text/plain": [
       "225.25"
      ]
     },
     "execution_count": 5,
     "metadata": {},
     "output_type": "execute_result"
    }
   ],
   "source": [
    "np.var(ages_list)"
   ]
  },
  {
   "cell_type": "code",
   "execution_count": 6,
   "id": "ff4ff0af-4773-4c91-8af7-b707a300406b",
   "metadata": {},
   "outputs": [],
   "source": [
    "import seaborn as sns"
   ]
  },
  {
   "cell_type": "code",
   "execution_count": 8,
   "id": "ea3a5e1d-d3ed-4a81-8945-f5bd6c84d9d6",
   "metadata": {},
   "outputs": [
    {
     "data": {
      "text/plain": [
       "<AxesSubplot: ylabel='Count'>"
      ]
     },
     "execution_count": 8,
     "metadata": {},
     "output_type": "execute_result"
    },
    {
     "data": {
      "image/png": "[encoded data removed]",
      "text/plain": [
       "<Figure size 640x480 with 1 Axes>"
      ]
     },
     "metadata": {},
     "output_type": "display_data"
    }
   ],
   "source": [
    "sns.histplot(ages_list, kde = True)"
   ]
  },
  {
   "cell_type": "code",
   "execution_count": 9,
   "id": "1c8c4b89-d37f-4603-9fe0-d4cc56969050",
   "metadata": {},
   "outputs": [],
   "source": [
    "import pandas as pd"
   ]
  },
  {
   "cell_type": "code",
   "execution_count": 10,
   "id": "bc73ee10-d64d-4152-b095-340f9bfac689",
   "metadata": {},
   "outputs": [],
   "source": [
    "data = [[10,12,14],[34,32,38],[32,44,40]]"
   ]
  },
  {
   "cell_type": "code",
   "execution_count": 11,
   "id": "49e4db7a-32f1-4a3e-8379-d258e8a38437",
   "metadata": {},
   "outputs": [
    {
     "data": {
      "text/plain": [
       "[[10, 12, 14], [34, 32, 38], [32, 44, 40]]"
      ]
     },
     "execution_count": 11,
     "metadata": {},
     "output_type": "execute_result"
    }
   ],
   "source": [
    "data"
   ]
  },
  {
   "cell_type": "code",
   "execution_count": 13,
   "id": "949ea6c9-f2ee-4ea6-8bf7-2c6f7a8f1bbb",
   "metadata": {},
   "outputs": [
    {
     "data": {
      "text/html": [
       "<div>\n",
       "<style scoped>\n",
       "    .dataframe tbody tr th:only-of-type {\n",
       "        vertical-align: middle;\n",
       "    }\n",
       "\n",
       "    .dataframe tbody tr th {\n",
       "        vertical-align: top;\n",
       "    }\n",
       "\n",
       "    .dataframe thead th {\n",
       "        text-align: right;\n",
       "    }\n",
       "</style>\n",
       "<table border=\"1\" class=\"dataframe\">\n",
       "  <thead>\n",
       "    <tr style=\"text-align: right;\">\n",
       "      <th></th>\n",
       "      <th>0</th>\n",
       "      <th>1</th>\n",
       "      <th>2</th>\n",
       "    </tr>\n",
       "  </thead>\n",
       "  <tbody>\n",
       "    <tr>\n",
       "      <th>0</th>\n",
       "      <td>10</td>\n",
       "      <td>12</td>\n",
       "      <td>14</td>\n",
       "    </tr>\n",
       "    <tr>\n",
       "      <th>1</th>\n",
       "      <td>34</td>\n",
       "      <td>32</td>\n",
       "      <td>38</td>\n",
       "    </tr>\n",
       "    <tr>\n",
       "      <th>2</th>\n",
       "      <td>32</td>\n",
       "      <td>44</td>\n",
       "      <td>40</td>\n",
       "    </tr>\n",
       "  </tbody>\n",
       "</table>\n",
       "</div>"
      ],
      "text/plain": [
       "    0   1   2\n",
       "0  10  12  14\n",
       "1  34  32  38\n",
       "2  32  44  40"
      ]
     },
     "execution_count": 13,
     "metadata": {},
     "output_type": "execute_result"
    }
   ],
   "source": [
    "pd.DataFrame(data) #converting it into list"
   ]
  },
  {
   "cell_type": "code",
   "execution_count": 16,
   "id": "f473a883-2613-4110-bcf2-6cec35c6527b",
   "metadata": {},
   "outputs": [],
   "source": [
    "df =pd.DataFrame(data,columns = ['A','B','C'])"
   ]
  },
  {
   "cell_type": "code",
   "execution_count": 17,
   "id": "76522d1b-688e-4081-a0d6-c6f2e2d1be38",
   "metadata": {},
   "outputs": [
    {
     "data": {
      "text/html": [
       "<div>\n",
       "<style scoped>\n",
       "    .dataframe tbody tr th:only-of-type {\n",
       "        vertical-align: middle;\n",
       "    }\n",
       "\n",
       "    .dataframe tbody tr th {\n",
       "        vertical-align: top;\n",
       "    }\n",
       "\n",
       "    .dataframe thead th {\n",
       "        text-align: right;\n",
       "    }\n",
       "</style>\n",
       "<table border=\"1\" class=\"dataframe\">\n",
       "  <thead>\n",
       "    <tr style=\"text-align: right;\">\n",
       "      <th></th>\n",
       "      <th>A</th>\n",
       "      <th>B</th>\n",
       "      <th>C</th>\n",
       "    </tr>\n",
       "  </thead>\n",
       "  <tbody>\n",
       "    <tr>\n",
       "      <th>0</th>\n",
       "      <td>10</td>\n",
       "      <td>12</td>\n",
       "      <td>14</td>\n",
       "    </tr>\n",
       "    <tr>\n",
       "      <th>1</th>\n",
       "      <td>34</td>\n",
       "      <td>32</td>\n",
       "      <td>38</td>\n",
       "    </tr>\n",
       "    <tr>\n",
       "      <th>2</th>\n",
       "      <td>32</td>\n",
       "      <td>44</td>\n",
       "      <td>40</td>\n",
       "    </tr>\n",
       "  </tbody>\n",
       "</table>\n",
       "</div>"
      ],
      "text/plain": [
       "    A   B   C\n",
       "0  10  12  14\n",
       "1  34  32  38\n",
       "2  32  44  40"
      ]
     },
     "execution_count": 17,
     "metadata": {},
     "output_type": "execute_result"
    }
   ],
   "source": [
    "df"
   ]
  },
  {
   "cell_type": "code",
   "execution_count": 18,
   "id": "10354006-4a0c-46d6-b2bf-aeb48be138d1",
   "metadata": {},
   "outputs": [
    {
     "data": {
      "text/plain": [
       "A    177.333333\n",
       "B    261.333333\n",
       "C    209.333333\n",
       "dtype: float64"
      ]
     },
     "execution_count": 18,
     "metadata": {},
     "output_type": "execute_result"
    }
   ],
   "source": [
    "df.var()"
   ]
  },
  {
   "cell_type": "code",
   "execution_count": 20,
   "id": "315eee79-b2db-4469-9c80-9f4e6dcf9d35",
   "metadata": {},
   "outputs": [
    {
     "data": {
      "text/plain": [
       "0     4.000000\n",
       "1     9.333333\n",
       "2    37.333333\n",
       "dtype: float64"
      ]
     },
     "execution_count": 20,
     "metadata": {},
     "output_type": "execute_result"
    }
   ],
   "source": [
    "df.var(axis = 1) #Finding the variance row wise"
   ]
  },
  {
   "cell_type": "code",
   "execution_count": null,
   "id": "36c7feaa-c730-47e2-99c7-f7cd71b8afce",
   "metadata": {},
   "outputs": [],
   "source": []
  }
 ],
 "metadata": {
  "kernelspec": {
   "display_name": "Python 3 (ipykernel)",
   "language": "python",
   "name": "python3"
  },
  "language_info": {
   "codemirror_mode": {
    "name": "ipython",
    "version": 3
   },
   "file_extension": ".py",
   "mimetype": "text/x-python",
   "name": "python",
   "nbconvert_exporter": "python",
   "pygments_lexer": "ipython3",
   "version": "3.10.8"
  }
 },
 "nbformat": 4,
 "nbformat_minor": 5
}
